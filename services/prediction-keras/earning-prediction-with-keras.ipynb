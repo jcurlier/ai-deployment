{
 "cells": [
  {
   "cell_type": "markdown",
   "metadata": {},
   "source": [
    "# Earning Prediction using Keras"
   ]
  },
  {
   "cell_type": "markdown",
   "metadata": {},
   "source": [
    "### Source\n",
    "- https://www.linkedin.com/learning/building-deep-learning-applications-with-keras-2-0"
   ]
  },
  {
   "cell_type": "markdown",
   "metadata": {},
   "source": [
    "## Setup"
   ]
  },
  {
   "cell_type": "markdown",
   "metadata": {},
   "source": [
    "### Configuration"
   ]
  },
  {
   "cell_type": "code",
   "execution_count": 1,
   "metadata": {},
   "outputs": [],
   "source": [
    "RUN_NAME = \"keras-run-1-50-nodes\"\n",
    "LOGDIR = './output/logs/{}'.format(RUN_NAME)"
   ]
  },
  {
   "cell_type": "markdown",
   "metadata": {},
   "source": [
    "### Libraries\n",
    "- https://pandas.pydata.org/\n",
    "- http://scikit-learn.org/stable/\n",
    "- https://keras.io/\n",
    "- https://www.tensorflow.org/"
   ]
  },
  {
   "cell_type": "code",
   "execution_count": 2,
   "metadata": {},
   "outputs": [
    {
     "name": "stderr",
     "output_type": "stream",
     "text": [
      "Using TensorFlow backend.\n"
     ]
    }
   ],
   "source": [
    "import os\n",
    "import shutil\n",
    "from pathlib import Path\n",
    "\n",
    "import pandas as pd\n",
    "from sklearn.preprocessing import MinMaxScaler\n",
    "\n",
    "import keras\n",
    "from keras.models import Sequential\n",
    "from keras.layers import *\n",
    "from keras.models import load_model\n",
    "from keras import backend as K\n",
    "\n",
    "import tensorflow as tf\n",
    "\n",
    "import pickle"
   ]
  },
  {
   "cell_type": "markdown",
   "metadata": {},
   "source": [
    "## Load data"
   ]
  },
  {
   "cell_type": "code",
   "execution_count": 3,
   "metadata": {},
   "outputs": [
    {
     "name": "stdout",
     "output_type": "stream",
     "text": [
      "Note: total_earnings values were scaled by multiplying by 0.0000036968 and adding -0.115913\n"
     ]
    },
    {
     "name": "stderr",
     "output_type": "stream",
     "text": [
      "/Library/Frameworks/Python.framework/Versions/3.6/lib/python3.6/site-packages/sklearn/preprocessing/data.py:323: DataConversionWarning: Data with input dtype int64, float64 were all converted to float64 by MinMaxScaler.\n",
      "  return self.partial_fit(X, y)\n"
     ]
    }
   ],
   "source": [
    "# Load and transform data\n",
    "\n",
    "# Load training data set from CSV file\n",
    "training_data_df = pd.read_csv(\"data/sales_data_training.csv\")\n",
    "\n",
    "# Load testing data set from CSV file\n",
    "test_data_df = pd.read_csv(\"data/sales_data_test.csv\")\n",
    "\n",
    "# Data needs to be scaled to a small range like 0 to 1 for the neural\n",
    "# network to work well.\n",
    "scaler = MinMaxScaler(feature_range=(0, 1))\n",
    "\n",
    "# Scale both the training inputs and outputs\n",
    "scaled_training = scaler.fit_transform(training_data_df)\n",
    "scaled_testing = scaler.transform(test_data_df)\n",
    "\n",
    "# Print out the adjustment that the scaler applied to the total_earnings column of data\n",
    "print(\"Note: total_earnings values were scaled by multiplying by {:.10f} and adding {:.6f}\"\n",
    "      .format(scaler.scale_[8], scaler.min_[8]))\n",
    "\n",
    "# Create new pandas DataFrame objects from the scaled data\n",
    "scaled_training_df = pd.DataFrame(scaled_training, columns=training_data_df.columns.values)\n",
    "scaled_testing_df = pd.DataFrame(scaled_testing, columns=test_data_df.columns.values)\n",
    "\n",
    "# Save scaled data dataframes to new CSV files\n",
    "scaled_training_df.to_csv(\"output/sales_data_training_scaled.csv\", index=False)\n",
    "scaled_testing_df.to_csv(\"output/sales_data_testing_scaled.csv\", index=False)"
   ]
  },
  {
   "cell_type": "markdown",
   "metadata": {},
   "source": [
    "## Build the model"
   ]
  },
  {
   "cell_type": "code",
   "execution_count": 4,
   "metadata": {},
   "outputs": [],
   "source": [
    "model = Sequential()\n",
    "model.add(Dense(50, input_dim=9, activation='relu', name='layer_1'))\n",
    "model.add(Dense(100, activation='relu', name='layer_2'))\n",
    "model.add(Dense(50, activation='relu', name='layer_3'))\n",
    "model.add(Dense(1, activation='linear', name='output_layer'))\n",
    "model.compile(loss='mean_squared_error', optimizer='adam')"
   ]
  },
  {
   "cell_type": "markdown",
   "metadata": {},
   "source": [
    "## Train model"
   ]
  },
  {
   "cell_type": "code",
   "execution_count": 5,
   "metadata": {},
   "outputs": [
    {
     "name": "stdout",
     "output_type": "stream",
     "text": [
      "Train on 1000 samples, validate on 400 samples\n",
      "Epoch 1/50\n",
      " - 0s - loss: 0.0105 - val_loss: 0.0021\n",
      "Epoch 2/50\n",
      " - 0s - loss: 0.0015 - val_loss: 8.3202e-04\n",
      "Epoch 3/50\n",
      " - 0s - loss: 5.6431e-04 - val_loss: 4.5582e-04\n",
      "Epoch 4/50\n",
      " - 0s - loss: 3.2860e-04 - val_loss: 3.1952e-04\n",
      "Epoch 5/50\n",
      " - 0s - loss: 1.8685e-04 - val_loss: 2.7504e-04\n",
      "Epoch 6/50\n",
      " - 0s - loss: 1.5069e-04 - val_loss: 3.4934e-04\n",
      "Epoch 7/50\n",
      " - 0s - loss: 1.1786e-04 - val_loss: 2.1426e-04\n",
      "Epoch 8/50\n",
      " - 0s - loss: 1.0692e-04 - val_loss: 1.5785e-04\n",
      "Epoch 9/50\n",
      " - 0s - loss: 7.0051e-05 - val_loss: 1.5981e-04\n",
      "Epoch 10/50\n",
      " - 0s - loss: 5.6284e-05 - val_loss: 1.2854e-04\n",
      "Epoch 11/50\n",
      " - 0s - loss: 4.5262e-05 - val_loss: 1.0843e-04\n",
      "Epoch 12/50\n",
      " - 0s - loss: 4.4378e-05 - val_loss: 1.0152e-04\n",
      "Epoch 13/50\n",
      " - 0s - loss: 3.8360e-05 - val_loss: 9.6515e-05\n",
      "Epoch 14/50\n",
      " - 0s - loss: 3.0082e-05 - val_loss: 9.2767e-05\n",
      "Epoch 15/50\n",
      " - 0s - loss: 3.7693e-05 - val_loss: 8.6918e-05\n",
      "Epoch 16/50\n",
      " - 0s - loss: 4.4227e-05 - val_loss: 1.0921e-04\n",
      "Epoch 17/50\n",
      " - 0s - loss: 3.5969e-05 - val_loss: 8.9955e-05\n",
      "Epoch 18/50\n",
      " - 0s - loss: 2.5275e-05 - val_loss: 8.3523e-05\n",
      "Epoch 19/50\n",
      " - 0s - loss: 2.7631e-05 - val_loss: 8.9794e-05\n",
      "Epoch 20/50\n",
      " - 0s - loss: 2.8976e-05 - val_loss: 8.6451e-05\n",
      "Epoch 21/50\n",
      " - 0s - loss: 2.1799e-05 - val_loss: 7.8244e-05\n",
      "Epoch 22/50\n",
      " - 0s - loss: 2.0543e-05 - val_loss: 7.2317e-05\n",
      "Epoch 23/50\n",
      " - 0s - loss: 2.2882e-05 - val_loss: 6.7000e-05\n",
      "Epoch 24/50\n",
      " - 0s - loss: 2.3814e-05 - val_loss: 1.0145e-04\n",
      "Epoch 25/50\n",
      " - 0s - loss: 4.8103e-05 - val_loss: 8.7166e-05\n",
      "Epoch 26/50\n",
      " - 0s - loss: 2.5873e-05 - val_loss: 7.3952e-05\n",
      "Epoch 27/50\n",
      " - 0s - loss: 2.4154e-05 - val_loss: 7.9367e-05\n",
      "Epoch 28/50\n",
      " - 0s - loss: 3.7650e-05 - val_loss: 7.3716e-05\n",
      "Epoch 29/50\n",
      " - 0s - loss: 2.4475e-05 - val_loss: 1.2653e-04\n",
      "Epoch 30/50\n",
      " - 0s - loss: 5.1184e-05 - val_loss: 1.2359e-04\n",
      "Epoch 31/50\n",
      " - 0s - loss: 3.7844e-05 - val_loss: 7.0904e-05\n",
      "Epoch 32/50\n",
      " - 0s - loss: 6.6961e-05 - val_loss: 2.1652e-04\n",
      "Epoch 33/50\n",
      " - 0s - loss: 6.5608e-05 - val_loss: 1.6855e-04\n",
      "Epoch 34/50\n",
      " - 0s - loss: 5.8105e-05 - val_loss: 1.1315e-04\n",
      "Epoch 35/50\n",
      " - 0s - loss: 3.9854e-05 - val_loss: 7.6043e-05\n",
      "Epoch 36/50\n",
      " - 0s - loss: 2.7295e-05 - val_loss: 7.9499e-05\n",
      "Epoch 37/50\n",
      " - 0s - loss: 8.1510e-05 - val_loss: 1.2638e-04\n",
      "Epoch 38/50\n",
      " - 0s - loss: 8.7167e-05 - val_loss: 1.0864e-04\n",
      "Epoch 39/50\n",
      " - 0s - loss: 4.4032e-05 - val_loss: 9.0442e-05\n",
      "Epoch 40/50\n",
      " - 0s - loss: 3.0220e-05 - val_loss: 7.5681e-05\n",
      "Epoch 41/50\n",
      " - 0s - loss: 2.6840e-05 - val_loss: 9.9075e-05\n",
      "Epoch 42/50\n",
      " - 0s - loss: 2.7563e-05 - val_loss: 7.3996e-05\n",
      "Epoch 43/50\n",
      " - 0s - loss: 3.1339e-05 - val_loss: 1.1988e-04\n",
      "Epoch 44/50\n",
      " - 0s - loss: 5.2608e-05 - val_loss: 9.0612e-05\n",
      "Epoch 45/50\n",
      " - 0s - loss: 4.9838e-05 - val_loss: 6.5239e-05\n",
      "Epoch 46/50\n",
      " - 0s - loss: 3.8084e-05 - val_loss: 6.2756e-05\n",
      "Epoch 47/50\n",
      " - 0s - loss: 1.9094e-05 - val_loss: 7.2211e-05\n",
      "Epoch 48/50\n",
      " - 0s - loss: 2.4210e-05 - val_loss: 8.9314e-05\n",
      "Epoch 49/50\n",
      " - 0s - loss: 2.7722e-05 - val_loss: 7.6189e-05\n",
      "Epoch 50/50\n",
      " - 0s - loss: 6.2080e-05 - val_loss: 6.9134e-05\n"
     ]
    },
    {
     "data": {
      "text/plain": [
       "<keras.callbacks.History at 0x123f8e8d0>"
      ]
     },
     "execution_count": 5,
     "metadata": {},
     "output_type": "execute_result"
    }
   ],
   "source": [
    "# Load the training data set\n",
    "scaled_training_df = pd.read_csv(\"output/sales_data_training_scaled.csv\")\n",
    "X = scaled_training_df.drop('total_earnings', axis=1).values\n",
    "Y = scaled_training_df[['total_earnings']].values\n",
    "\n",
    "# Load the separate test data set\n",
    "scaled_testing_df = pd.read_csv(\"output/sales_data_testing_scaled.csv\")\n",
    "X_test = scaled_testing_df.drop('total_earnings', axis=1).values\n",
    "Y_test = scaled_testing_df[['total_earnings']].values\n",
    "\n",
    "# Delete the folder directory\n",
    "if os.path.exists(LOGDIR):\n",
    "    shutil.rmtree(LOGDIR)\n",
    "\n",
    "# Create a TensorBoard logger\n",
    "logger = keras.callbacks.TensorBoard(\n",
    "    log_dir=LOGDIR,\n",
    "    histogram_freq=5,\n",
    "    write_graph=True\n",
    ")\n",
    "\n",
    "# Train the model\n",
    "model.fit(\n",
    "    X,\n",
    "    Y,\n",
    "    epochs=50,\n",
    "    shuffle=True,\n",
    "    verbose=2,\n",
    "    callbacks=[logger],\n",
    "    validation_data=(X_test, Y_test)\n",
    ")"
   ]
  },
  {
   "cell_type": "markdown",
   "metadata": {},
   "source": [
    "## Save the model"
   ]
  },
  {
   "cell_type": "code",
   "execution_count": 6,
   "metadata": {},
   "outputs": [],
   "source": [
    "# Save the model to disk\n",
    "model.save(\"models/keras_trained_model.h5\")"
   ]
  },
  {
   "cell_type": "code",
   "execution_count": 1,
   "metadata": {},
   "outputs": [
    {
     "ename": "NameError",
     "evalue": "name 'K' is not defined",
     "output_type": "error",
     "traceback": [
      "\u001b[0;31m---------------------------------------------------------------------------\u001b[0m",
      "\u001b[0;31mNameError\u001b[0m                                 Traceback (most recent call last)",
      "\u001b[0;32m<ipython-input-1-3173c81ada16>\u001b[0m in \u001b[0;36m<module>\u001b[0;34m\u001b[0m\n\u001b[1;32m      1\u001b[0m \u001b[0;31m# Export model\u001b[0m\u001b[0;34m\u001b[0m\u001b[0;34m\u001b[0m\u001b[0m\n\u001b[1;32m      2\u001b[0m \u001b[0;34m\u001b[0m\u001b[0m\n\u001b[0;32m----> 3\u001b[0;31m \u001b[0msess\u001b[0m \u001b[0;34m=\u001b[0m \u001b[0mK\u001b[0m\u001b[0;34m.\u001b[0m\u001b[0mget_session\u001b[0m\u001b[0;34m(\u001b[0m\u001b[0;34m)\u001b[0m\u001b[0;34m\u001b[0m\u001b[0m\n\u001b[0m\u001b[1;32m      4\u001b[0m \u001b[0;34m\u001b[0m\u001b[0m\n\u001b[1;32m      5\u001b[0m \u001b[0mclassify_model\u001b[0m \u001b[0;34m=\u001b[0m \u001b[0mload_model\u001b[0m\u001b[0;34m(\u001b[0m\u001b[0;34m'models/keras_trained_model.h5'\u001b[0m\u001b[0;34m)\u001b[0m\u001b[0;34m\u001b[0m\u001b[0m\n",
      "\u001b[0;31mNameError\u001b[0m: name 'K' is not defined"
     ]
    }
   ],
   "source": [
    "# Export model\n",
    "\n",
    "sess = K.get_session()\n",
    "\n",
    "classify_model = load_model('models/keras_trained_model.h5')\n",
    "\n",
    "# Delete the existing folder (if there)\n",
    "model_path = Path('models/keras_exported_model')\n",
    "if os.path.exists(model_path):\n",
    "    shutil.rmtree(model_path)\n",
    "    \n",
    "inputs = {\n",
    "    'input': tf.saved_model.utils.build_tensor_info(classify_model.input)\n",
    "}\n",
    "outputs = {\n",
    "    'earnings': tf.saved_model.utils.build_tensor_info(classify_model.output)\n",
    "}\n",
    "\n",
    "signature_def = tf.saved_model.signature_def_utils.build_signature_def(\n",
    "    inputs=inputs,\n",
    "    outputs=outputs,\n",
    "    method_name=tf.saved_model.signature_constants.CLASSIFY_METHOD_NAME\n",
    ")\n",
    "\n",
    "model_builder = tf.saved_model.builder.SavedModelBuilder(\"models/keras_exported_model\")\n",
    "\n",
    "model_builder.add_meta_graph_and_variables(\n",
    "    sess=sess,\n",
    "    tags=[tf.saved_model.tag_constants.SERVING],\n",
    "    signature_def_map={ tf.saved_model.signature_constants.DEFAULT_SERVING_SIGNATURE_DEF_KEY: signature_def}\n",
    ")\n",
    "\n",
    "model_builder.save()"
   ]
  },
  {
   "cell_type": "code",
   "execution_count": 8,
   "metadata": {},
   "outputs": [
    {
     "name": "stdout",
     "output_type": "stream",
     "text": [
      "scalars saved\n"
     ]
    }
   ],
   "source": [
    "# save the scaler\n",
    "scalerfile = './models/scaler.dat'\n",
    "pickle.dump(scaler, open(scalerfile, 'wb'))\n",
    "\n",
    "print('scalars saved')"
   ]
  },
  {
   "cell_type": "markdown",
   "metadata": {},
   "source": [
    "## Prediction"
   ]
  },
  {
   "cell_type": "markdown",
   "metadata": {},
   "source": [
    "### Local predict"
   ]
  },
  {
   "cell_type": "code",
   "execution_count": 9,
   "metadata": {},
   "outputs": [
    {
     "name": "stdout",
     "output_type": "stream",
     "text": [
      "Earnings Prediction for Proposed Product - $260868.609375\n"
     ]
    }
   ],
   "source": [
    "prediction_model = load_model('models/keras_trained_model.h5')\n",
    "\n",
    "X = pd.read_csv(\"data/proposed_new_product.csv\").values\n",
    "\n",
    "prediction_scaled = prediction_model.predict(X)\n",
    "\n",
    "# Re-scale the data from the 0-to-1 range back to dollars\n",
    "# These constants are from when the data was originally scaled down to the 0-to-1 range\n",
    "prediction = (prediction_scaled - scaler.min_[8]) / scaler.scale_[8]\n",
    "\n",
    "print(\"Earnings Prediction for Proposed Product - ${}\".format(prediction[0][0]))"
   ]
  },
  {
   "cell_type": "markdown",
   "metadata": {},
   "source": [
    "## Troubleshooting"
   ]
  },
  {
   "cell_type": "code",
   "execution_count": 10,
   "metadata": {},
   "outputs": [
    {
     "name": "stdout",
     "output_type": "stream",
     "text": [
      "TensorBoard 1.11.0 at http://Jerome-Curliers-MacBook-Pro.local:6006 (Press CTRL+C to quit)\n",
      "^C\n"
     ]
    }
   ],
   "source": [
    "# Visualize the log\n",
    "\n",
    "# Note: Stop once done\n",
    "!tensorboard --logdir=$LOGDIR"
   ]
  },
  {
   "cell_type": "code",
   "execution_count": null,
   "metadata": {},
   "outputs": [],
   "source": []
  }
 ],
 "metadata": {
  "kernelspec": {
   "display_name": "Python 3",
   "language": "python",
   "name": "python3"
  },
  "language_info": {
   "codemirror_mode": {
    "name": "ipython",
    "version": 3
   },
   "file_extension": ".py",
   "mimetype": "text/x-python",
   "name": "python",
   "nbconvert_exporter": "python",
   "pygments_lexer": "ipython3",
   "version": "3.6.6"
  }
 },
 "nbformat": 4,
 "nbformat_minor": 2
}
