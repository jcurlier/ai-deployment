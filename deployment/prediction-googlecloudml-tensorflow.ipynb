{
 "cells": [
  {
   "cell_type": "markdown",
   "metadata": {},
   "source": [
    "# Prediction on Google ML with Tensorflow"
   ]
  },
  {
   "cell_type": "markdown",
   "metadata": {},
   "source": [
    "### Note\n",
    "\n",
    "- Ensure the same version for Tensorflow is used locally and on Google cloud\n",
    "\n",
    "https://cloud.google.com/ml-engine/docs/tensorflow/runtime-version-list"
   ]
  },
  {
   "cell_type": "markdown",
   "metadata": {},
   "source": [
    "## Setup"
   ]
  },
  {
   "cell_type": "markdown",
   "metadata": {},
   "source": [
    "### Configuration"
   ]
  },
  {
   "cell_type": "code",
   "execution_count": 1,
   "metadata": {},
   "outputs": [],
   "source": [
    "ROOT_PATH = '../services/prediction-tensorflow'\n",
    "\n",
    "MODEL_PATH = '%s/models' % (ROOT_PATH)\n",
    "EXPORTED_MODEL_PATH = '%s/tf_exported_model' % (MODEL_PATH)\n",
    "EXPORTED_YSCALAR_PATH = '%s/yscaler.dat' % (MODEL_PATH)\n",
    "\n",
    "DATA_PATH = '%s/data' % (ROOT_PATH)\n",
    "DATA_INPUT_JSON_PATH = '%s/sample_input_prescaled.json' % (DATA_PATH)\n",
    "\n",
    "BUCKET_NAME = 'tf_earning-prediction-1000'\n",
    "BUCKET_FOLDER_NAME = 'earnings_v1'\n",
    "BUCKET_URL = 'gs://%s' % (BUCKET_NAME)\n",
    "BUCKET_FOLDER_URL = '%s/%s' % (BUCKET_URL, BUCKET_FOLDER_NAME)\n",
    "\n",
    "MODEL_NAME = 'tf_earnings_prediction'\n",
    "MODEL_VERSION = 'v1'\n",
    "MODEL_RUNTIME_VERSION = '1.2'\n",
    "\n",
    "PROJECT_ID = \"gde-core-dev\"\n",
    "REGION = 'us-central1'\n",
    "CREDENTIALS_FILE = \"./credentials.json\""
   ]
  },
  {
   "cell_type": "markdown",
   "metadata": {},
   "source": [
    "### Libraries\n",
    "\n",
    "- google-api-python-client\n",
    "- oauth2client\n",
    "- pickle"
   ]
  },
  {
   "cell_type": "code",
   "execution_count": 2,
   "metadata": {},
   "outputs": [],
   "source": [
    "from oauth2client.client import GoogleCredentials\n",
    "import googleapiclient.discovery\n",
    "\n",
    "import pickle"
   ]
  },
  {
   "cell_type": "markdown",
   "metadata": {},
   "source": [
    "### Upload the model to Google Cloud bucket"
   ]
  },
  {
   "cell_type": "code",
   "execution_count": 3,
   "metadata": {},
   "outputs": [
    {
     "name": "stdout",
     "output_type": "stream",
     "text": [
      "Creating gs://tf_earning-prediction-1000/...\n",
      "Copying file://../services/prediction-tensorflow/models/tf_exported_model/saved_model.pb [Content-Type=application/octet-stream]...\n",
      "Copying file://../services/prediction-tensorflow/models/tf_exported_model/variables/variables.data-00000-of-00001 [Content-Type=application/octet-stream]...\n",
      "Copying file://../services/prediction-tensorflow/models/tf_exported_model/variables/variables.index [Content-Type=application/octet-stream]...\n",
      "- [3 files][195.4 KiB/195.4 KiB]                                                \n",
      "Operation completed over 3 objects/195.4 KiB.                                    \n"
     ]
    }
   ],
   "source": [
    "# Make the bucket\n",
    "!gsutil mb -l { REGION } { BUCKET_URL }\n",
    "!gsutil cp -r { EXPORTED_MODEL_PATH } { BUCKET_FOLDER_URL }\n"
   ]
  },
  {
   "cell_type": "markdown",
   "metadata": {},
   "source": [
    "### Create the model with Google ML Engine"
   ]
  },
  {
   "cell_type": "code",
   "execution_count": 4,
   "metadata": {},
   "outputs": [
    {
     "name": "stdout",
     "output_type": "stream",
     "text": [
      "Created ml engine model [projects/gde-core-dev/models/tf_earnings_prediction].\r\n"
     ]
    }
   ],
   "source": [
    "!gcloud ml-engine models create { MODEL_NAME } --regions { REGION }"
   ]
  },
  {
   "cell_type": "code",
   "execution_count": 5,
   "metadata": {},
   "outputs": [
    {
     "name": "stdout",
     "output_type": "stream",
     "text": [
      "Creating version (this might take a few minutes)......done.                    \n"
     ]
    }
   ],
   "source": [
    "!gcloud ml-engine versions create { MODEL_VERSION } \\\n",
    "    --model={ MODEL_NAME } \\\n",
    "    --origin={ BUCKET_FOLDER_URL }/ \\\n",
    "    --runtime-version={ MODEL_RUNTIME_VERSION }\n"
   ]
  },
  {
   "cell_type": "markdown",
   "metadata": {},
   "source": [
    "## Prediction"
   ]
  },
  {
   "cell_type": "markdown",
   "metadata": {},
   "source": [
    "### Input"
   ]
  },
  {
   "cell_type": "code",
   "execution_count": 6,
   "metadata": {},
   "outputs": [],
   "source": [
    "input = [[0.5, 1.0, 1.0, 1.0, 0.0, 1.0, 0.0, 1.0, 1.0]]"
   ]
  },
  {
   "cell_type": "code",
   "execution_count": 7,
   "metadata": {},
   "outputs": [],
   "source": [
    "yscaler = pickle.load(open(EXPORTED_YSCALAR_PATH, 'rb'))"
   ]
  },
  {
   "cell_type": "markdown",
   "metadata": {},
   "source": [
    "### Predict with local saved_model_cli"
   ]
  },
  {
   "cell_type": "code",
   "execution_count": 8,
   "metadata": {},
   "outputs": [
    {
     "name": "stdout",
     "output_type": "stream",
     "text": [
      "['2018-10-25 11:56:13.623732: I tensorflow/core/platform/cpu_feature_guard.cc:141] Your CPU supports instructions that this TensorFlow binary was not compiled to use: AVX2 FMA', 'Result for output key earnings:', '[[0.78507453]]']\n"
     ]
    }
   ],
   "source": [
    "output = !saved_model_cli run \\\n",
    "    --dir { EXPORTED_MODEL_PATH } \\\n",
    "    --tag_set serve --signature_def serving_default \\\n",
    "    --input_exprs 'input={ input }'\n",
    "\n",
    "print(output)"
   ]
  },
  {
   "cell_type": "code",
   "execution_count": 9,
   "metadata": {},
   "outputs": [
    {
     "name": "stdout",
     "output_type": "stream",
     "text": [
      "Our neural network predicted earnings of $243721.58573765002\n"
     ]
    }
   ],
   "source": [
    "test_scaled_set = yscaler.inverse_transform(eval(output[len(output) - 1]))\n",
    "\n",
    "print(\"Our neural network predicted earnings of ${}\".format(test_scaled_set[0][0]))"
   ]
  },
  {
   "cell_type": "markdown",
   "metadata": {},
   "source": [
    "### Predict from Google ML Engine using gcloud"
   ]
  },
  {
   "cell_type": "code",
   "execution_count": 10,
   "metadata": {},
   "outputs": [
    {
     "name": "stdout",
     "output_type": "stream",
     "text": [
      "['EARNINGS', '[0.7850745320320129]']\n"
     ]
    }
   ],
   "source": [
    "output = !gcloud ml-engine predict \\\n",
    "    --model={ MODEL_NAME } \\\n",
    "    --json-instances={ DATA_INPUT_JSON_PATH }\n",
    "\n",
    "print(output)"
   ]
  },
  {
   "cell_type": "code",
   "execution_count": 11,
   "metadata": {},
   "outputs": [
    {
     "name": "stdout",
     "output_type": "stream",
     "text": [
      "Our neural network predicted earnings of $[243721.58628732]\n"
     ]
    }
   ],
   "source": [
    "test_scaled_set = yscaler.inverse_transform([eval(output[1])])\n",
    "\n",
    "print(\"Our neural network predicted earnings of ${}\".format(test_scaled_set[0]))"
   ]
  },
  {
   "cell_type": "markdown",
   "metadata": {},
   "source": [
    "### Predict from Google ML Engine using SDK"
   ]
  },
  {
   "cell_type": "code",
   "execution_count": 12,
   "metadata": {},
   "outputs": [
    {
     "name": "stdout",
     "output_type": "stream",
     "text": [
      "[{'earnings': [0.7850745320320129]}]\n"
     ]
    }
   ],
   "source": [
    "# These are the values we want a prediction for\n",
    "inputs_for_prediction = [{\n",
    "    \"input\": [0.5, 1.0, 1.0, 1.0, 0.0, 1.0, 0.0, 1.0, 1.0]\n",
    "}]\n",
    "\n",
    "# Connect to the Google Cloud-ML Service\n",
    "credentials = GoogleCredentials.from_stream(CREDENTIALS_FILE)\n",
    "service = googleapiclient.discovery.build('ml', 'v1', credentials=credentials)\n",
    "\n",
    "# Connect to our Prediction Model\n",
    "name = 'projects/{}/models/{}'.format(PROJECT_ID, MODEL_NAME)\n",
    "response = service.projects().predict(\n",
    "    name=name,\n",
    "    body={'instances': inputs_for_prediction}\n",
    ").execute()\n",
    "\n",
    "# Report any errors\n",
    "if 'error' in response:\n",
    "    raise RuntimeError(response['error'])\n",
    "\n",
    "# Grab the results from the response object\n",
    "results = response['predictions']\n",
    "\n",
    "# Print the results!\n",
    "print(results)"
   ]
  },
  {
   "cell_type": "markdown",
   "metadata": {},
   "source": [
    "## Tear Down"
   ]
  },
  {
   "cell_type": "markdown",
   "metadata": {},
   "source": [
    "### Delete the model from Google ML Engine"
   ]
  },
  {
   "cell_type": "code",
   "execution_count": 13,
   "metadata": {},
   "outputs": [
    {
     "name": "stdout",
     "output_type": "stream",
     "text": [
      "Deleting version [v1]......done.                                               \n",
      "Deleting model [tf_earnings_prediction]...done.                                \n"
     ]
    }
   ],
   "source": [
    "!gcloud ml-engine versions delete { MODEL_VERSION } \\\n",
    "    --model={ MODEL_NAME } \\\n",
    "    --quiet\n",
    "!gcloud ml-engine models delete { MODEL_NAME } --quiet"
   ]
  },
  {
   "cell_type": "code",
   "execution_count": 14,
   "metadata": {},
   "outputs": [
    {
     "name": "stdout",
     "output_type": "stream",
     "text": [
      "Removing gs://tf_earning-prediction-1000/earnings_v1/saved_model.pb#1540493294954930...\n",
      "Removing gs://tf_earning-prediction-1000/earnings_v1/variables/variables.data-00000-of-00001#1540493295365738...\n",
      "Removing gs://tf_earning-prediction-1000/earnings_v1/variables/variables.index#1540493295593113...\n",
      "/ [3/3 objects] 100% Done                                                       \n",
      "Operation completed over 3 objects.                                              \n",
      "Removing gs://tf_earning-prediction-1000/...\n"
     ]
    }
   ],
   "source": [
    "!gsutil -m rm -r { BUCKET_URL } "
   ]
  },
  {
   "cell_type": "markdown",
   "metadata": {},
   "source": [
    "## Troubleshooting"
   ]
  },
  {
   "cell_type": "code",
   "execution_count": 15,
   "metadata": {},
   "outputs": [
    {
     "name": "stdout",
     "output_type": "stream",
     "text": [
      "\r\n",
      "MetaGraphDef with tag-set: 'serve' contains the following SignatureDefs:\r\n",
      "\r\n",
      "signature_def['serving_default']:\r\n",
      "  The given SavedModel SignatureDef contains the following input(s):\r\n",
      "    inputs['input'] tensor_info:\r\n",
      "        dtype: DT_FLOAT\r\n",
      "        shape: (-1, 9)\r\n",
      "        name: input/Placeholder:0\r\n",
      "  The given SavedModel SignatureDef contains the following output(s):\r\n",
      "    outputs['earnings'] tensor_info:\r\n",
      "        dtype: DT_FLOAT\r\n",
      "        shape: (-1, 1)\r\n",
      "        name: output/add:0\r\n",
      "  Method name is: tensorflow/serving/predict\r\n"
     ]
    }
   ],
   "source": [
    "# Check the model signature with saved_model_cli\n",
    "\n",
    "!saved_model_cli show --dir { EXPORTED_MODEL_PATH }  --all"
   ]
  },
  {
   "cell_type": "code",
   "execution_count": 16,
   "metadata": {
    "ExecuteTime": {
     "end_time": "2018-10-24T04:12:34.730598Z",
     "start_time": "2018-10-24T04:12:27.930288Z"
    }
   },
   "outputs": [
    {
     "name": "stdout",
     "output_type": "stream",
     "text": [
      "2018-10-25 11:57:35.134554: I tensorflow/core/platform/cpu_feature_guard.cc:141] Your CPU supports instructions that this TensorFlow binary was not compiled to use: AVX2 FMA\n",
      "Result for output key earnings:\n",
      "[[0.78507453]]\n"
     ]
    }
   ],
   "source": [
    "# Test prediction with saved_model_cli\n",
    "\n",
    "!saved_model_cli run \\\n",
    "    --dir { EXPORTED_MODEL_PATH } \\\n",
    "    --tag_set serve \\\n",
    "    --signature_def serving_default \\\n",
    "    --input_exprs 'input={ input }'"
   ]
  },
  {
   "cell_type": "code",
   "execution_count": null,
   "metadata": {},
   "outputs": [],
   "source": []
  }
 ],
 "metadata": {
  "kernelspec": {
   "display_name": "Python 3",
   "language": "python",
   "name": "python3"
  },
  "language_info": {
   "codemirror_mode": {
    "name": "ipython",
    "version": 3
   },
   "file_extension": ".py",
   "mimetype": "text/x-python",
   "name": "python",
   "nbconvert_exporter": "python",
   "pygments_lexer": "ipython3",
   "version": "3.6.6"
  },
  "varInspector": {
   "cols": {
    "lenName": 16,
    "lenType": 16,
    "lenVar": 40
   },
   "kernels_config": {
    "python": {
     "delete_cmd_postfix": "",
     "delete_cmd_prefix": "del ",
     "library": "var_list.py",
     "varRefreshCmd": "print(var_dic_list())"
    },
    "r": {
     "delete_cmd_postfix": ") ",
     "delete_cmd_prefix": "rm(",
     "library": "var_list.r",
     "varRefreshCmd": "cat(var_dic_list()) "
    }
   },
   "types_to_exclude": [
    "module",
    "function",
    "builtin_function_or_method",
    "instance",
    "_Feature"
   ],
   "window_display": false
  }
 },
 "nbformat": 4,
 "nbformat_minor": 2
}
